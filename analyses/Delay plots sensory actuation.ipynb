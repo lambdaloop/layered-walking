{
 "cells": [
  {
   "cell_type": "markdown",
   "metadata": {},
   "source": [
    "Perturbation plots\n",
    "==================\n",
    "\n"
   ]
  },
  {
   "cell_type": "markdown",
   "metadata": {},
   "source": [
    "## Goal\n",
    "\n"
   ]
  },
  {
   "cell_type": "markdown",
   "metadata": {},
   "source": [
    "The goal of this notebook is to make plots for the delays figure of the paper. Namely:\n",
    "\n",
    "-   Example perturbed trajectories with different delays\n",
    "-   Effect of delta perturbation on other legs\n",
    "-   Heatmap of magnitude of slippery perturbation vs delays\n",
    "\n",
    "The network should be set up so that running it from top to bottom makes all the figure sublayouts.\n",
    "\n"
   ]
  },
  {
   "cell_type": "markdown",
   "metadata": {},
   "source": [
    "## Setup\n",
    "\n"
   ]
  },
  {
   "cell_type": "code",
   "execution_count": 1,
   "metadata": {},
   "outputs": [],
   "source": [
    "import numpy as np\n",
    "import statsmodels.api as sm\n",
    "from statsmodels.sandbox.regression.predstd import wls_prediction_std\n",
    "import matplotlib.pyplot as plt\n",
    "import os\n",
    "from tqdm import tqdm, trange\n",
    "import pandas as pd\n",
    "from scipy import signal\n",
    "from scipy.stats import gaussian_kde\n",
    "from glob import glob\n",
    "import pickle"
   ]
  },
  {
   "cell_type": "code",
   "execution_count": 2,
   "metadata": {},
   "outputs": [],
   "source": [
    "import sys\n",
    "project_path = \"/home/lili/research/tuthill/layered-walking\"\n",
    "data_path = '/home/lili/data/tuthill/models/sls_runs'\n",
    "sys.path.append(project_path)\n",
    "from tools.angle_functions import anglesTG as angle_names_1leg\n",
    "from tools.angle_functions import legs\n",
    "from tools.angle_functions import make_fly_video, angles_to_pose_names\n",
    "from tools.trajgen_tools import WalkingData\n",
    "from tools.dist_tools import DistType"
   ]
  },
  {
   "cell_type": "code",
   "execution_count": 3,
   "metadata": {},
   "outputs": [],
   "source": [
    "import matplotlib.pyplot as plt\n",
    "import seaborn as sns\n",
    "from sklearn.decomposition import PCA\n",
    "%matplotlib inline\n",
    "\n",
    "plt.style.use('default')\n",
    "plt.rcParams['figure.figsize'] = (7.5, 2)"
   ]
  },
  {
   "cell_type": "code",
   "execution_count": 4,
   "metadata": {},
   "outputs": [],
   "source": [
    "xvals = np.linspace(-np.pi, np.pi)\n",
    "def get_phase(ang):\n",
    "    m = np.median(ang, axis=0)\n",
    "    s = np.std(ang, axis=0)\n",
    "    s[s == 0] = 1\n",
    "    dm = (ang - m) / s\n",
    "    phase = np.arctan2(-dm[:,1], dm[:,0])\n",
    "    return phase\n",
    "\n",
    "def phase_align_poly(ang, extra=None, order=5):\n",
    "    topredict = ang\n",
    "    if extra is not None:\n",
    "        topredict = np.hstack([ang, extra])\n",
    "    means = np.full((len(xvals), topredict.shape[1]), np.nan)\n",
    "    stds = np.full((len(xvals), topredict.shape[1]), np.nan)\n",
    "    if len(ang) < 50: # not enough data\n",
    "        return means, stds\n",
    "    phase = get_phase(ang)\n",
    "    # pcs = np.vstack([np.cos(phase), np.sin(phase)]).T\n",
    "    b = np.vstack([np.cos(i * phase + j) for i in range(order) for j in [0, np.pi/2]]).T\n",
    "    xcs = np.vstack([np.cos(i * xvals + j) for i in range(order) for j in [0, np.pi/2]]).T\n",
    "    for i in range(topredict.shape[1]):\n",
    "        cc = np.isfinite(topredict[:,i])\n",
    "        model = sm.OLS(topredict[cc,i], b[cc]).fit()\n",
    "        means[:,i] = model.predict(xcs)\n",
    "        s, upper,lower = wls_prediction_std(model, xcs)\n",
    "        stds[:,i] = s\n",
    "    return means, stds"
   ]
  },
  {
   "cell_type": "code",
   "execution_count": 5,
   "metadata": {},
   "outputs": [],
   "source": [
    "# list(d.keys())"
   ]
  },
  {
   "cell_type": "code",
   "execution_count": 6,
   "metadata": {},
   "outputs": [
    {
     "name": "stderr",
     "output_type": "stream",
     "text": [
      "100%|███████████████████████████████| 864/864 [48:58<00:00,  3.40s/it]\n"
     ]
    }
   ],
   "source": [
    "fname_pat = os.path.join(data_path, 'delays_stats_subang_v9_sense_actuation*.pkl')\n",
    "fnames = sorted(glob(fname_pat))\n",
    "\n",
    "# fname_pat = os.path.join(data_path, 'delays_stats_subang_v9_sense_actuation*.pkl')\n",
    "# fnames += sorted(glob(fname_pat))\n",
    "\n",
    "conditions = []\n",
    "angles = []\n",
    "derivs = []\n",
    "accels = []\n",
    "\n",
    "for fname in tqdm(fnames, ncols=70):\n",
    "    # d = np.load(fname, allow_pickle=True)\n",
    "    with open(fname, 'rb') as f:\n",
    "        d = pickle.load(f)\n",
    "\n",
    "    try:\n",
    "        angle_names = d['angleNames'][0]\n",
    "    except:\n",
    "        print(fname)\n",
    "        continue\n",
    "\n",
    "    for i, cond in enumerate(d['conditions']):\n",
    "        ang = d['angle'][i]\n",
    "        deriv = signal.savgol_filter(ang, 5, 2, deriv=1, axis=0)\n",
    "        accel = signal.savgol_filter(deriv, 5, 2, deriv=1, axis=0)\n",
    "        if 'senseDelay' not in cond:\n",
    "            cond['senseDelay'] = 0.010 # fixed\n",
    "        if 'actDelay' not in cond:\n",
    "            cond['actDelay'] = 0.030\n",
    "        conditions.append(cond)\n",
    "        angles.append(ang)\n",
    "        derivs.append(deriv)\n",
    "        accels.append(accel)"
   ]
  },
  {
   "cell_type": "code",
   "execution_count": 15,
   "metadata": {},
   "outputs": [
    {
     "data": {
      "text/plain": [
       "{'context': [12, 0, 0],\n",
       " 'offset': 0,\n",
       " 'dist': <DistType.IMPULSE: 7>,\n",
       " 'maxVelocity': 0.0,\n",
       " 'senseDelay': 0.0,\n",
       " 'actDelay': 0.0}"
      ]
     },
     "execution_count": 15,
     "metadata": {},
     "output_type": "execute_result"
    }
   ],
   "source": [
    "conditions[0]"
   ]
  },
  {
   "cell_type": "code",
   "execution_count": 16,
   "metadata": {},
   "outputs": [],
   "source": [
    "perturb_ranges = {\n",
    "    'before': (0, 300),\n",
    "    'during': (300, 600),\n",
    "    'after': (600, 900)\n",
    "}"
   ]
  },
  {
   "cell_type": "code",
   "execution_count": 17,
   "metadata": {},
   "outputs": [],
   "source": [
    "speeds = np.array([x['context'] for x in conditions])\n",
    "dist_types = np.array([x['dist'].value for x in conditions])\n",
    "act_delays = np.array([x['actDelay'] for x in conditions])\n",
    "sense_delays = np.array([x['senseDelay'] for x in conditions])\n",
    "max_velocities = np.array([x['maxVelocity'] for x in conditions])\n",
    "angle_names = list(angle_names)"
   ]
  },
  {
   "cell_type": "code",
   "execution_count": 18,
   "metadata": {},
   "outputs": [],
   "source": [
    "fname = '/home/lili/data/tuthill/models/models_sls/data_subang_5.pickle'\n",
    "wd = WalkingData(fname)"
   ]
  },
  {
   "cell_type": "code",
   "execution_count": 19,
   "metadata": {},
   "outputs": [
    {
     "data": {
      "text/plain": [
       "array([[  4.246732  ,   0.7071299 ,   0.3955671 ],\n",
       "       [  2.5441482 ,   3.387733  ,   1.0246041 ],\n",
       "       [  2.3452914 ,  -0.44610858,  -0.20245193],\n",
       "       ...,\n",
       "       [  6.904698  ,   3.0903168 ,   3.0456958 ],\n",
       "       [  5.8905787 ,  -4.7177234 ,   1.9700806 ],\n",
       "       [  8.232974  , -12.293827  ,  -0.86852646]], dtype=float32)"
      ]
     },
     "execution_count": 19,
     "metadata": {},
     "output_type": "execute_result"
    }
   ],
   "source": [
    "wd.bout_context"
   ]
  },
  {
   "cell_type": "code",
   "execution_count": 20,
   "metadata": {},
   "outputs": [],
   "source": [
    "fancy_angle_names = {\n",
    "    'C_flex': 'femur-tibia\\nflexion',\n",
    "    'A_rot': 'coxa\\nrotation',\n",
    "    'A_abduct': 'body-coxa\\nflexion',\n",
    "    'B_flex': 'coxa-femur\\nflexion',\n",
    "    'B_rot': 'femur\\nrotation'\n",
    "}"
   ]
  },
  {
   "cell_type": "markdown",
   "metadata": {},
   "source": [
    "## principal component metric\n",
    "\n"
   ]
  },
  {
   "cell_type": "code",
   "execution_count": 21,
   "metadata": {},
   "outputs": [],
   "source": [
    "full_L = []\n",
    "bnums = wd._get_minlen_bnums(300)\n",
    "for bnum in bnums:\n",
    "    bout = wd.get_bnum(bnum)\n",
    "    angs = np.hstack([bout['angles'][leg] for leg in legs])\n",
    "    full_L.append(angs)\n",
    "full = np.vstack(full_L)\n",
    "\n",
    "full_sc = np.hstack([np.sin(np.deg2rad(full)),\n",
    "                     np.cos(np.deg2rad(full))])\n",
    "\n",
    "pca = PCA(n_components=8)\n",
    "pcs = pca.fit_transform(full_sc)\n",
    "\n",
    "subixs = np.random.choice(pcs.shape[0], size=10000, replace=False)\n",
    "kde = gaussian_kde(pcs[subixs,:2].T)"
   ]
  },
  {
   "cell_type": "code",
   "execution_count": null,
   "metadata": {},
   "outputs": [],
   "source": [
    "angles_sc = np.dstack([np.sin(np.deg2rad(angles)),\n",
    "                         np.cos(np.deg2rad(angles))])\n",
    "\n",
    "angles_sc_flat = angles_sc.reshape(-1, angles_sc.shape[-1])\n",
    "\n",
    "pcs = np.full((angles_sc_flat.shape[0], 2), np.nan)\n",
    "good = np.all(np.isfinite(angles_sc_flat), axis=1)\n",
    "pcs[good] = pca.transform(angles_sc_flat[good])\n",
    "# pcs = pca.transform(angles_sc_flat)\n",
    "\n",
    "pdfs_flat = np.full(len(pcs), -2.5)\n",
    "step = 500\n",
    "for i in trange(0, len(pcs), step, ncols=70):\n",
    "  check = np.all(np.isfinite(pcs[i:i+step]), axis=1)\n",
    "  pdfs_flat[i:i+step][check] = kde.logpdf(pcs[i:i+step, :2][check].T)\n",
    "\n",
    "pdfs_shaped = pdfs_flat.reshape(angles_sc.shape[:2])"
   ]
  },
  {
   "cell_type": "code",
   "execution_count": null,
   "metadata": {},
   "outputs": [],
   "source": [
    "np.savez_compressed('sense_actuation_angle_pdfs.npz', pdfs=pdfs_shaped)"
   ]
  },
  {
   "cell_type": "code",
   "execution_count": null,
   "metadata": {},
   "outputs": [],
   "source": [
    "x = np.load('sense_actuation_angle_pdfs.npz')"
   ]
  },
  {
   "cell_type": "markdown",
   "metadata": {},
   "source": [
    "## Sensory actuation delay plots\n",
    "\n"
   ]
  },
  {
   "cell_type": "markdown",
   "metadata": {},
   "source": [
    "### Example time series\n",
    "\n"
   ]
  },
  {
   "cell_type": "markdown",
   "metadata": {},
   "source": [
    "For the figure part A, we'd like to have multiple example angles. Perhaps R1 femur-tibia flexion would be good to show, but also L2 femur rotation?\n",
    "I'd like to have multiple traces for each angle, perhaps we could show with forward, rotation, and sideslip?\n",
    "\n",
    "In this code, we could also make a supplementary figure with a more complete set of angles.\n",
    "\n"
   ]
  },
  {
   "cell_type": "code",
   "execution_count": null,
   "metadata": {},
   "outputs": [],
   "source": [
    "# plot_speeds = [[[[12, 0, 0]]]]\n",
    "plot_delays = [0, 0.015, 0.030, 0.045]\n",
    "# plot_velocities = [8, 14]\n",
    "plot_speed = 12"
   ]
  },
  {
   "cell_type": "code",
   "execution_count": null,
   "metadata": {},
   "outputs": [],
   "source": [
    "angnames = ['R1C_flex', 'L2B_rot']\n",
    "dists = ['poisson', 'impulse']\n",
    "dist_values = {'poisson': DistType.POISSON_GAUSSIAN.value,\n",
    "               'impulse': DistType.IMPULSE.value}\n",
    "\n",
    "for dist in dists:\n",
    "    dist_value = dist_values[dist]\n",
    "    for angname in angnames:\n",
    "        ix_ang = angle_names.index(angname)\n",
    "\n",
    "        plt.figure(figsize=(5.5, 2))\n",
    "        for i in range(len(plot_delays)):\n",
    "            plt.subplot(4, 1, i+1)\n",
    "            ixs = np.where((speeds[:, 0] == plot_speed)\n",
    "                           & (dist_types == dist_value)\n",
    "                           & np.isclose(act_delays, plot_delays[i])\n",
    "                           & np.isclose(sense_delays, 0.01)\n",
    "                           )[0]\n",
    "            ix_bout = ixs[33]\n",
    "            print(conditions[ix_bout])\n",
    "            ang = angles[ix_bout][:, ix_ang]\n",
    "            t = np.arange(len(ang))/300.0\n",
    "            if angname == 'R1C_flex':\n",
    "                ang = np.clip(ang, 0, 180)\n",
    "            elif angname == 'L2B_rot':\n",
    "                ang = np.mod(ang, 360)\n",
    "            plt.plot(t, ang)\n",
    "            plt.axvline(t[300], color='gray', linestyle='dotted')\n",
    "            plt.axvline(t[600], color='gray', linestyle='dotted')\n",
    "            if angname == 'R1C_flex':\n",
    "                plt.ylim(0, 180)\n",
    "                plt.yticks([60, 120])\n",
    "            else:\n",
    "                plt.ylim(0, 360)\n",
    "                plt.yticks([120, 240])\n",
    "            if i != 2:\n",
    "                plt.xticks(ticks=[])\n",
    "\n",
    "        sns.despine(bottom=True)\n",
    "        plt.ylabel(\"Angle (deg)\")\n",
    "        plt.xlabel(\"Time (s)\")\n",
    "\n",
    "        plt.savefig('plots/act_delays_trace_{}_{}.pdf'.format(angname, dist),\n",
    "                    bbox_inches = \"tight\")"
   ]
  },
  {
   "cell_type": "markdown",
   "metadata": {},
   "source": [
    "### all the heatmap plots!\n",
    "\n"
   ]
  },
  {
   "cell_type": "code",
   "execution_count": null,
   "metadata": {},
   "outputs": [],
   "source": [
    "to_plot  = [(\"during - before perturbations\", \"during_diff_logpdf\"),\n",
    "            # (\"after - before perturbations\", \"after_diff_logpdf\"),\n",
    "            # (\"before perturbations\", \"before_logpdf\"),\n",
    "            (\"during perturbations\", \"during_logpdf\"),\n",
    "            # (\"after perturbations\", \"after_logpdf\")\n",
    "            ]"
   ]
  },
  {
   "cell_type": "code",
   "execution_count": null,
   "metadata": {},
   "outputs": [],
   "source": [
    "for dist_name, dist in [('continuous', DistType.POISSON_GAUSSIAN),\n",
    "                        ('impulse', DistType.IMPULSE)]:\n",
    "\n",
    "    if dist_name == 'continuous':\n",
    "        before = np.mean(pdfs_shaped[:, :300], axis=1)\n",
    "        during = np.mean(pdfs_shaped[:, 300:600], axis=1)\n",
    "        after = np.mean(pdfs_shaped[:, 600:900], axis=1)\n",
    "        max_velocity_constant = 3.75\n",
    "    elif dist_name == 'impulse':\n",
    "        before = np.mean(pdfs_shaped[:, :300], axis=1)\n",
    "        during = np.mean(pdfs_shaped[:, 305:400], axis=1)\n",
    "        after = np.mean(pdfs_shaped[:, 400:900], axis=1)\n",
    "        max_velocity_constant = 7.5\n",
    "\n",
    "    dd = pd.DataFrame({\"act_delay\": act_delays,\n",
    "                   \"dist_type\": dist_types,\n",
    "                   \"sense_delay\": sense_delays,\n",
    "                   \"speed\": speeds[:, 0],\n",
    "                   \"max_velocity\": max_velocities,\n",
    "                   \"during_logpdf\": during,\n",
    "                   \"after_logpdf\": after,\n",
    "                   \"during_diff_logpdf\": during-before,\n",
    "                   \"after_diff_logpdf\": after-before,\n",
    "                   \"before_logpdf\": before})\n",
    "\n",
    "    for xaxis in ['speed', 'max_velocity']:\n",
    "        check = dd['dist_type'] == dist.value\n",
    "        check = check & np.isclose(dd['max_velocity'], max_velocity_constant)\n",
    "        check = check & np.isclose(dd['speed'], 12)\n",
    "\n",
    "        dgroup = dd[check].groupby(['act_delay', 'sense_delay']).mean()\n",
    "\n",
    "\n",
    "        for (name, key) in to_plot:\n",
    "            dimg = dgroup.reset_index().pivot(columns='sense_delay', index='act_delay', values=key)\n",
    "            plt.figure(figsize=(6, 3), dpi=200)\n",
    "            plt.imshow(dimg)\n",
    "            if \"diff\" in key:\n",
    "                plt.imshow(dimg, vmin=-2, vmax=0)\n",
    "            else:\n",
    "                plt.imshow(dimg, vmin=-2, vmax=-1)\n",
    "\n",
    "            ax = plt.gca()\n",
    "            ax.set_xticks(np.arange(len(dimg.columns)), labels=np.int32(dimg.columns * 1000))\n",
    "            ax.set_yticks(np.arange(len(dimg.index)), labels=np.int32(dimg.index * 1000))\n",
    "\n",
    "            ax.set_xlabel(\"Sensory delay (ms)\")\n",
    "            ax.set_ylabel(\"Actuation delay (ms)\")\n",
    "\n",
    "            plt.setp(ax.get_xticklabels(), rotation=45, ha=\"right\",\n",
    "                     rotation_mode=\"anchor\")\n",
    "\n",
    "            plt.colorbar()\n",
    "            plt.title(name)\n",
    "\n",
    "            plt.savefig('plots/actsensedelay_logpdf_{}_{}.pdf'.format(dist_name, key),\n",
    "                        bbox_inches = \"tight\")"
   ]
  },
  {
   "cell_type": "code",
   "execution_count": null,
   "metadata": {},
   "outputs": [],
   "source": []
  }
 ],
 "metadata": {
  "kernelspec": {
   "display_name": "Python 3 (ipykernel)",
   "language": "python",
   "name": "python3"
  },
  "language_info": {
   "codemirror_mode": {
    "name": "ipython",
    "version": 3
   },
   "file_extension": ".py",
   "mimetype": "text/x-python",
   "name": "python",
   "nbconvert_exporter": "python",
   "pygments_lexer": "ipython3",
   "version": "3.9.16"
  },
  "org": null
 },
 "nbformat": 4,
 "nbformat_minor": 1
}
